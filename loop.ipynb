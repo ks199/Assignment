{
 "cells": [
  {
   "cell_type": "code",
   "execution_count": 9,
   "id": "9fc213b4-4ef6-4168-bead-7f2c50e0eb97",
   "metadata": {},
   "outputs": [
    {
     "name": "stdin",
     "output_type": "stream",
     "text": [
      "enter your marks -88\n"
     ]
    },
    {
     "name": "stdout",
     "output_type": "stream",
     "text": [
      "you will be the part of A3 batch\n"
     ]
    }
   ],
   "source": [
    "marks = int (input(\"enter your marks\"))\n",
    "if marks > 80:\n",
    "    print(\"you will be the part of A0 batch\")\n",
    "elif marks >= 60 and marks < 80:\n",
    "    print(\"you will be the part of A1 batch\")\n",
    "elif marks >= 40 and marks < 60:    \n",
    "    print(\"you will be the part of A2 batch\")\n",
    "else:\n",
    "    print(\"you will be the part of A3 batch\")"
   ]
  },
  {
   "cell_type": "code",
   "execution_count": null,
   "id": "910faffe-89a3-4047-973a-1710b59be134",
   "metadata": {},
   "outputs": [],
   "source": []
  },
  {
   "cell_type": "code",
   "execution_count": 14,
   "id": "736d9314-ede2-49da-9f3b-314995cc2d60",
   "metadata": {},
   "outputs": [
    {
     "name": "stdin",
     "output_type": "stream",
     "text": [
      "enter your price 2000\n"
     ]
    },
    {
     "name": "stdout",
     "output_type": "stream",
     "text": [
      "this is too much\n"
     ]
    }
   ],
   "source": [
    "price = int(input(\"enter your price\"))\n",
    "if price > 10000:\n",
    "   print(\"I will not purchase\")\n",
    "else:\n",
    "   print (\"this is too much\")      "
   ]
  },
  {
   "cell_type": "code",
   "execution_count": 17,
   "id": "48f8b519-eacf-497a-b49d-9e2c4669b0b8",
   "metadata": {},
   "outputs": [
    {
     "name": "stdin",
     "output_type": "stream",
     "text": [
      "enter your price 6000\n"
     ]
    },
    {
     "name": "stdout",
     "output_type": "stream",
     "text": [
      "It is too much\n"
     ]
    }
   ],
   "source": [
    "price = int(input(\"enter your price\"))\n",
    "if price > 10000:\n",
    "    print(\"I will not purchase\")\n",
    "elif price > 5000:\n",
    "    print(\"It is too much\")\n",
    "elif price < 2000:\n",
    "    print(\"Its ok\")\n",
    "elif price < 1000:\n",
    "    print(\"I am interested\")\n",
    "else:\n",
    "    print(\"Not interrested\")\n",
    "    "
   ]
  },
  {
   "cell_type": "code",
   "execution_count": 18,
   "id": "8250a60d-7135-4e65-aef1-cb42a951c1dc",
   "metadata": {},
   "outputs": [],
   "source": [
    "l=[1,2,1,3,4,5,6,7,8]"
   ]
  },
  {
   "cell_type": "code",
   "execution_count": 19,
   "id": "c1632398-50de-44a1-802b-fc5bf4008d03",
   "metadata": {},
   "outputs": [
    {
     "data": {
      "text/plain": [
       "[1, 2, 1, 3, 4, 5, 6, 7, 8]"
      ]
     },
     "execution_count": 19,
     "metadata": {},
     "output_type": "execute_result"
    }
   ],
   "source": [
    "l"
   ]
  },
  {
   "cell_type": "code",
   "execution_count": 20,
   "id": "41328ce8-ce4d-4af0-a897-9eeaeedf3874",
   "metadata": {},
   "outputs": [
    {
     "name": "stdout",
     "output_type": "stream",
     "text": [
      "1\n",
      "2\n",
      "1\n",
      "3\n",
      "4\n",
      "5\n",
      "6\n",
      "7\n",
      "8\n"
     ]
    }
   ],
   "source": [
    "for i in l:\n",
    "    print(i)"
   ]
  },
  {
   "cell_type": "code",
   "execution_count": 21,
   "id": "89740291-f9f8-49a6-bfdc-8840605467ef",
   "metadata": {},
   "outputs": [
    {
     "name": "stdout",
     "output_type": "stream",
     "text": [
      "[1, 2, 1, 3, 4, 5, 6, 7, 8]\n",
      "[1, 2, 1, 3, 4, 5, 6, 7, 8]\n",
      "[1, 2, 1, 3, 4, 5, 6, 7, 8]\n",
      "[1, 2, 1, 3, 4, 5, 6, 7, 8]\n",
      "[1, 2, 1, 3, 4, 5, 6, 7, 8]\n",
      "[1, 2, 1, 3, 4, 5, 6, 7, 8]\n",
      "[1, 2, 1, 3, 4, 5, 6, 7, 8]\n",
      "[1, 2, 1, 3, 4, 5, 6, 7, 8]\n",
      "[1, 2, 1, 3, 4, 5, 6, 7, 8]\n"
     ]
    }
   ],
   "source": [
    "for i in l:\n",
    "    print(l)"
   ]
  },
  {
   "cell_type": "code",
   "execution_count": 22,
   "id": "e80c483b-1578-438e-8d9d-5628d9fb922f",
   "metadata": {},
   "outputs": [
    {
     "name": "stdout",
     "output_type": "stream",
     "text": [
      "2\n",
      "3\n",
      "2\n",
      "4\n",
      "5\n",
      "6\n",
      "7\n",
      "8\n",
      "9\n"
     ]
    }
   ],
   "source": [
    "for i in l:\n",
    "    print(i+1)"
   ]
  },
  {
   "cell_type": "code",
   "execution_count": 25,
   "id": "31f5ea18-03ce-46bb-84a5-62e3ad73efa3",
   "metadata": {},
   "outputs": [
    {
     "name": "stdout",
     "output_type": "stream",
     "text": [
      "2\n",
      "3\n",
      "2\n",
      "4\n",
      "5\n",
      "6\n",
      "7\n",
      "8\n",
      "9\n"
     ]
    },
    {
     "data": {
      "text/plain": [
       "[2, 3, 2, 4, 5, 6, 7, 8, 9]"
      ]
     },
     "execution_count": 25,
     "metadata": {},
     "output_type": "execute_result"
    }
   ],
   "source": [
    "l1=[]\n",
    "for i in l:\n",
    "    print(i+1)\n",
    "    l1.append(i+1)\n",
    "l1"
   ]
  },
  {
   "cell_type": "code",
   "execution_count": 26,
   "id": "ad1203b7-fef5-4b10-8175-b9fa3b2d7ccd",
   "metadata": {},
   "outputs": [
    {
     "data": {
      "text/plain": [
       "[1, 2, 1, 3, 4, 5, 6, 7, 8]"
      ]
     },
     "execution_count": 26,
     "metadata": {},
     "output_type": "execute_result"
    }
   ],
   "source": [
    "l"
   ]
  },
  {
   "cell_type": "code",
   "execution_count": 29,
   "id": "1257b72f-5f6b-4d4f-965e-d4dad2c6431f",
   "metadata": {},
   "outputs": [],
   "source": [
    "l=[\"ram\",\"krishna\",\"hanuman\",\"shiv\",\"vishnu\",\"brhama\"]"
   ]
  },
  {
   "cell_type": "code",
   "execution_count": 31,
   "id": "e4a589df-fca5-4ffd-8a19-14717472bfd0",
   "metadata": {},
   "outputs": [
    {
     "data": {
      "text/plain": [
       "['ram', 'krishna', 'hanuman', 'shiv', 'vishnu', 'brhama']"
      ]
     },
     "execution_count": 31,
     "metadata": {},
     "output_type": "execute_result"
    }
   ],
   "source": [
    "l"
   ]
  },
  {
   "cell_type": "code",
   "execution_count": 32,
   "id": "b761fbe8-31c1-4f2f-9bdf-3cab450a8f47",
   "metadata": {},
   "outputs": [
    {
     "name": "stdout",
     "output_type": "stream",
     "text": [
      "ram\n",
      "krishna\n",
      "hanuman\n",
      "shiv\n",
      "vishnu\n",
      "brhama\n"
     ]
    }
   ],
   "source": [
    "l1=[]\n",
    "for i in l:\n",
    "    print(i)\n",
    "    l1.append(i.upper())"
   ]
  },
  {
   "cell_type": "code",
   "execution_count": 33,
   "id": "148deadf-8af9-4f76-a566-4e51bb692925",
   "metadata": {},
   "outputs": [
    {
     "data": {
      "text/plain": [
       "['RAM', 'KRISHNA', 'HANUMAN', 'SHIV', 'VISHNU', 'BRHAMA']"
      ]
     },
     "execution_count": 33,
     "metadata": {},
     "output_type": "execute_result"
    }
   ],
   "source": [
    "l1\n"
   ]
  },
  {
   "cell_type": "code",
   "execution_count": 34,
   "id": "fb3c76a8-d56f-4f61-89c9-afac2d0c4907",
   "metadata": {},
   "outputs": [],
   "source": [
    "l=[1,2,3,8,5.5,\"sa\",\"ra\",\"ga\",\"ma\",\"pa\",7.7,4.5]"
   ]
  },
  {
   "cell_type": "code",
   "execution_count": 35,
   "id": "afed0f6f-9806-41fa-bbbe-7b38b8e22e27",
   "metadata": {},
   "outputs": [
    {
     "data": {
      "text/plain": [
       "[1, 2, 3, 8, 5.5, 'sa', 'ra', 'ga', 'ma', 'pa', 7.7, 4.5]"
      ]
     },
     "execution_count": 35,
     "metadata": {},
     "output_type": "execute_result"
    }
   ],
   "source": [
    "l"
   ]
  },
  {
   "cell_type": "code",
   "execution_count": 36,
   "id": "1b53d98d-b71a-4d30-b9fc-e9a4c5d9078e",
   "metadata": {},
   "outputs": [],
   "source": [
    "l1_num=[]\n",
    "l2_str=[]\n",
    "for i in l:\n",
    "    if type (i) == int or type (i) == float :\n",
    "        l1_num.append(i)\n",
    "    else:\n",
    "        l2_str.append(i)"
   ]
  },
  {
   "cell_type": "code",
   "execution_count": 37,
   "id": "813fa59d-3290-4d96-9dab-9347127c1be6",
   "metadata": {},
   "outputs": [
    {
     "data": {
      "text/plain": [
       "[1, 2, 3, 8, 5.5, 7.7, 4.5]"
      ]
     },
     "execution_count": 37,
     "metadata": {},
     "output_type": "execute_result"
    }
   ],
   "source": [
    "l1_num"
   ]
  },
  {
   "cell_type": "code",
   "execution_count": 38,
   "id": "3237ae1e-a0a5-4a84-a0be-841c99e281b6",
   "metadata": {},
   "outputs": [
    {
     "data": {
      "text/plain": [
       "['sa', 'ra', 'ga', 'ma', 'pa']"
      ]
     },
     "execution_count": 38,
     "metadata": {},
     "output_type": "execute_result"
    }
   ],
   "source": [
    "l2_str"
   ]
  },
  {
   "cell_type": "code",
   "execution_count": null,
   "id": "e2e75496-23a2-4ec9-a6ab-4a0dcd56b371",
   "metadata": {},
   "outputs": [],
   "source": []
  }
 ],
 "metadata": {
  "kernelspec": {
   "display_name": "Python 3 (ipykernel)",
   "language": "python",
   "name": "python3"
  },
  "language_info": {
   "codemirror_mode": {
    "name": "ipython",
    "version": 3
   },
   "file_extension": ".py",
   "mimetype": "text/x-python",
   "name": "python",
   "nbconvert_exporter": "python",
   "pygments_lexer": "ipython3",
   "version": "3.10.6"
  }
 },
 "nbformat": 4,
 "nbformat_minor": 5
}
